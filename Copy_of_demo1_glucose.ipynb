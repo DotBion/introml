{
  "cells": [
    {
      "cell_type": "markdown",
      "metadata": {
        "id": "view-in-github",
        "colab_type": "text"
      },
      "source": [
        "<a href=\"https://colab.research.google.com/github/DotBion/introml/blob/main/Copy_of_demo1_glucose.ipynb\" target=\"_parent\"><img src=\"https://colab.research.google.com/assets/colab-badge.svg\" alt=\"Open In Colab\"/></a>"
      ]
    },
    {
      "cell_type": "markdown",
      "metadata": {
        "id": "pdJcRMQMUCnV"
      },
      "source": [
        "# Demo:  Predicting Glucose Levels using Mulitple Linear Regression"
      ]
    },
    {
      "cell_type": "markdown",
      "metadata": {
        "id": "fKJjCXCmUCnV"
      },
      "source": [
        "In this demo, you will learn how to:\n",
        "* Fit multiple linear regression models using python's `sklearn` pachage.  \n",
        "* Split data into training and test.\n",
        "* Manipulate and visualize multivariable arrays.\n",
        "\n",
        "We first load the packages as usual."
      ]
    },
    {
      "cell_type": "code",
      "execution_count": null,
      "metadata": {
        "id": "h9amC1OmUCnW"
      },
      "outputs": [],
      "source": [
        "import numpy as np\n",
        "import matplotlib\n",
        "import matplotlib.pyplot as plt\n",
        "%matplotlib inline"
      ]
    },
    {
      "cell_type": "markdown",
      "metadata": {
        "id": "3NMfd-WMUCnW"
      },
      "source": [
        "## Diabetes Data Example\n",
        "To illustrate the concepts, we load the well-known diabetes data set.  This dataset is included in the `sklearn.datasets` module and can be loaded as follows."
      ]
    },
    {
      "cell_type": "code",
      "execution_count": null,
      "metadata": {
        "id": "b1Vo9st_UCnW"
      },
      "outputs": [],
      "source": [
        "from sklearn import datasets, linear_model\n",
        "\n",
        "# Load the diabetes dataset\n",
        "diabetes = datasets.load_diabetes()\n",
        "X = diabetes.data\n",
        "y = diabetes.target"
      ]
    },
    {
      "cell_type": "markdown",
      "metadata": {
        "id": "LqjKCcUHUCnW"
      },
      "source": [
        "We can print a description of the data as follows:"
      ]
    },
    {
      "cell_type": "code",
      "execution_count": null,
      "metadata": {
        "id": "6wz4IHS9UCnW",
        "outputId": "9ef094e5-0d8b-4bf4-cf77-fb775ba39e61"
      },
      "outputs": [
        {
          "name": "stdout",
          "output_type": "stream",
          "text": [
            ".. _diabetes_dataset:\n",
            "\n",
            "Diabetes dataset\n",
            "----------------\n",
            "\n",
            "Ten baseline variables, age, sex, body mass index, average blood\n",
            "pressure, and six blood serum measurements were obtained for each of n =\n",
            "442 diabetes patients, as well as the response of interest, a\n",
            "quantitative measure of disease progression one year after baseline.\n",
            "\n",
            "**Data Set Characteristics:**\n",
            "\n",
            "  :Number of Instances: 442\n",
            "\n",
            "  :Number of Attributes: First 10 columns are numeric predictive values\n",
            "\n",
            "  :Target: Column 11 is a quantitative measure of disease progression one year after baseline\n",
            "\n",
            "  :Attribute Information:\n",
            "      - Age\n",
            "      - Sex\n",
            "      - Body mass index\n",
            "      - Average blood pressure\n",
            "      - S1\n",
            "      - S2\n",
            "      - S3\n",
            "      - S4\n",
            "      - S5\n",
            "      - S6\n",
            "\n",
            "Note: Each of these 10 feature variables have been mean centered and scaled by the standard deviation times `n_samples` (i.e. the sum of squares of each column totals 1).\n",
            "\n",
            "Source URL:\n",
            "https://www4.stat.ncsu.edu/~boos/var.select/diabetes.html\n",
            "\n",
            "For more information see:\n",
            "Bradley Efron, Trevor Hastie, Iain Johnstone and Robert Tibshirani (2004) \"Least Angle Regression,\" Annals of Statistics (with discussion), 407-499.\n",
            "(https://web.stanford.edu/~hastie/Papers/LARS/LeastAngle_2002.pdf)\n"
          ]
        }
      ],
      "source": [
        "print(diabetes.DESCR)"
      ]
    },
    {
      "cell_type": "markdown",
      "metadata": {
        "id": "_4Adfo-ZUCnX"
      },
      "source": [
        "The target values are stored in the vector `y`.  The attributes for the diabetes data are stored in a data matrix, `X`.  The size is is number of samples (442) x number of attributes (10)."
      ]
    },
    {
      "cell_type": "code",
      "execution_count": null,
      "metadata": {
        "id": "pRpPWODAUCnX",
        "outputId": "23c3b91a-723e-4d9e-90f0-3c6942621425"
      },
      "outputs": [
        {
          "name": "stdout",
          "output_type": "stream",
          "text": [
            "num samples=442  num attributes=10\n"
          ]
        }
      ],
      "source": [
        "nsamp, natt = X.shape\n",
        "print(\"num samples={0:d}  num attributes={1:d}\".format(nsamp,natt))"
      ]
    },
    {
      "cell_type": "markdown",
      "metadata": {
        "id": "u1H1Zc3CUCnX"
      },
      "source": [
        "In class exercise: Print the (normalized) ages of the first 5 subjects?"
      ]
    },
    {
      "cell_type": "code",
      "execution_count": null,
      "metadata": {
        "id": "oGU-ZvB0UCnX",
        "colab": {
          "base_uri": "https://localhost:8080/"
        },
        "outputId": "ddf62ce2-2c0d-4849-d354-22a67558937c"
      },
      "outputs": [
        {
          "output_type": "stream",
          "name": "stdout",
          "text": [
            "[ 0.03807591 -0.00188202  0.08529891 -0.08906294  0.00538306]\n"
          ]
        }
      ],
      "source": [
        "#TODO\n",
        "print(X[:5,0])\n",
        "#print(X[:5,2]/np.max(X[:,2])"
      ]
    },
    {
      "cell_type": "markdown",
      "metadata": {
        "id": "fpZqQFZvUCnX"
      },
      "source": [
        "In-class exercise:   Print the attributes S1-S3 for subjects 10-15"
      ]
    },
    {
      "cell_type": "code",
      "execution_count": null,
      "metadata": {
        "id": "51GK40rwUCnX",
        "colab": {
          "base_uri": "https://localhost:8080/"
        },
        "outputId": "ff9c022e-7cb6-44ea-e868-89f2398fa5ed"
      },
      "outputs": [
        {
          "output_type": "stream",
          "name": "stdout",
          "text": [
            "[[-0.04464164 -0.08380842]\n",
            " [ 0.05068012  0.01750591]\n",
            " [-0.04464164 -0.02884001]\n",
            " [ 0.05068012 -0.00189471]\n",
            " [-0.04464164 -0.02560657]]\n"
          ]
        }
      ],
      "source": [
        "#TODO\n",
        "print(X[10:15,1:3])"
      ]
    },
    {
      "cell_type": "markdown",
      "metadata": {
        "id": "X2P5-9yHUCnX"
      },
      "source": [
        "In class exercise:  Create a scatter plot of the target variable, `y` vs. the BMI.  Does there seem to be a relation?  What about `y` vs. the age?  Which is a better predictor?  "
      ]
    },
    {
      "cell_type": "code",
      "execution_count": null,
      "metadata": {
        "id": "yr1ib-2RUCnX",
        "colab": {
          "base_uri": "https://localhost:8080/",
          "height": 449
        },
        "outputId": "7ccf80cc-14cf-4c76-d7d7-a236e8bef18a"
      },
      "outputs": [
        {
          "output_type": "display_data",
          "data": {
            "text/plain": [
              "<Figure size 640x480 with 1 Axes>"
            ],
            "image/png": "[encoded data removed]"
          },
          "metadata": {}
        }
      ],
      "source": [
        "#TODO\n",
        "plt.scatter(X[:,2],y)\n",
        "plt.xlabel('BMI')\n",
        "plt.ylabel('Target')\n",
        "plt.grid() # shows positive correlation"
      ]
    },
    {
      "cell_type": "markdown",
      "metadata": {
        "id": "e2PikcYrUCnX"
      },
      "source": [
        "## Using Simple Linear Regression for Each Feature Individually\n",
        "\n",
        "As a first attempt to predict the glucouse level, we could try *one attribute at a time*.  That is, for each attribute $x_k$, we could attempt to fit a [simple linear regression](../simp_lin_reg/readme.md) model:\n",
        "$$ \\hat{y} = \\beta_{0,k} + \\beta_{1,k}x_k$$\n",
        "where $\\beta_{0,k}$ and $\\beta_{1,k}$ are the coefficients in the simple linear regression model using only the attribute $x_k$.\n",
        "\n",
        "Now, we saw in class, that the goodness of fit in a simple linear regression model is given by the coefficient of determination.  Let $R_k^2$ be the coefficient for predicting $y$ from the $k$-th predictor $x_k$:\n",
        "$$R^2_k = \\frac{|s_{x_k,y}|^2}{s_{x_k}^2 s_y^2}.$$\n",
        "The following code computes $R^2_k$ for each variable $k$ as well as the coefficients in the linear model, $\\beta_{0,k}$ and $\\beta_{1,k}$"
      ]
    },
    {
      "cell_type": "code",
      "execution_count": null,
      "metadata": {
        "scrolled": true,
        "id": "wWQRD2z7UCnX",
        "outputId": "52299c0f-e8d1-4688-b270-597aa42bfbf9"
      },
      "outputs": [
        {
          "name": "stdout",
          "output_type": "stream",
          "text": [
            " 0 Rsq=0.035302 beta0=152.133484 beta1=304.183075\n",
            " 1 Rsq=0.001854 beta0=152.133484 beta1=69.715356\n",
            " 2 Rsq=0.343924 beta0=152.133484 beta1=949.435260\n",
            " 3 Rsq=0.194908 beta0=152.133484 beta1=714.741644\n",
            " 4 Rsq=0.044954 beta0=152.133484 beta1=343.254452\n",
            " 5 Rsq=0.030295 beta0=152.133484 beta1=281.784593\n",
            " 6 Rsq=0.155859 beta0=152.133484 beta1=-639.145279\n",
            " 7 Rsq=0.185290 beta0=152.133484 beta1=696.883030\n",
            " 8 Rsq=0.320224 beta0=152.133484 beta1=916.138723\n",
            " 9 Rsq=0.146294 beta0=152.133484 beta1=619.222821\n"
          ]
        }
      ],
      "source": [
        "ym = np.mean(y)\n",
        "syy = np.mean((y-ym)**2)\n",
        "Rsq = np.zeros(natt)\n",
        "beta0 = np.zeros(natt)\n",
        "beta1 = np.zeros(natt)\n",
        "for k in range(natt):\n",
        "    xm = np.mean(X[:,k])\n",
        "    sxy = np.mean((X[:,k]-xm)*(y-ym))\n",
        "    sxx = np.mean((X[:,k]-xm)**2)\n",
        "    beta1[k] = sxy/sxx\n",
        "    beta0[k] = ym - beta1[k]*xm\n",
        "    Rsq[k] = (sxy)**2/sxx/syy\n",
        "\n",
        "    print(\"{0:2d} Rsq={1:f} beta0={2:f} beta1={3:f}\".format(k,Rsq[k],beta0[k],beta1[k]))\n"
      ]
    },
    {
      "cell_type": "markdown",
      "metadata": {
        "id": "XDKpPsMIUCnY"
      },
      "source": [
        "We see that the best $R^2_k = 0.34$.  That is, only about 34% of the variance is explained by a linear model with any one variable.  We can see this somewhat poor fit in the scatter plot as well where there is a significat variation from the regression line.\n",
        "Also notice that beta0 are all the same no matter which attribute is used to predict the target!"
      ]
    },
    {
      "cell_type": "code",
      "execution_count": null,
      "metadata": {
        "id": "YI7dU9NtUCnY",
        "outputId": "60ffb5e9-f79c-46ad-99e6-de4243897017"
      },
      "outputs": [
        {
          "data": {
            "image/png": "[encoded data removed]",
            "text/plain": [
              "<Figure size 432x288 with 1 Axes>"
            ]
          },
          "metadata": {
            "needs_background": "light"
          },
          "output_type": "display_data"
        }
      ],
      "source": [
        "# Find the index of the single variable with the best R^2\n",
        "imax = np.argmax(Rsq)\n",
        "\n",
        "# Regression line over the range of x values\n",
        "xmin = np.min(X[:,imax])\n",
        "xmax = np.max(X[:,imax])\n",
        "ymin = beta0[imax] + beta1[imax]*xmin\n",
        "ymax = beta0[imax] + beta1[imax]*xmax\n",
        "plt.plot([xmin,xmax], [ymin,ymax], 'r-', linewidth=3)\n",
        "\n",
        "# Scatter plot of points\n",
        "plt.scatter(X[:,imax],y)\n",
        "plt.grid()"
      ]
    },
    {
      "cell_type": "markdown",
      "metadata": {
        "id": "FKWHwVhtUCnY"
      },
      "source": [
        "Note that the calculations above could have been done without a for-loop using Python broadcasting:"
      ]
    },
    {
      "cell_type": "code",
      "execution_count": null,
      "metadata": {
        "id": "BcilO0goUCnY"
      },
      "outputs": [],
      "source": [
        "# Remove the means\n",
        "ym = np.mean(y)\n",
        "y1 = y-ym  # a column vecotor each minus mean\n",
        "Xm = np.mean(X,axis=0) # averaging over column, resulting a row vector of dimension natt\n",
        "X1 = X - Xm[None,:] # minus the same mean in each column\n",
        "\n",
        "# Compute the correlations per features\n",
        "syy = np.mean(y1**2)\n",
        "Sxx = np.mean(X1**2,axis=0) #a row vector with each element indicating the variance of one attribute\n",
        "Sxy = np.mean(X1*y1[:,None],axis=0) #a row vector with each element indicating the covarance on one attribute to the targer\n",
        "\n",
        "# Compute the coefficients and R^2 value per feature\n",
        "beta1 = Sxy/Sxx # element wise division, resulting a row vector containing  beta1 for each attribute\n",
        "beta0 = ym - beta1*Xm # element wise multiplication, resulting a row vector containing beta0 for each attribute\n",
        "Rsq = Sxy**2/Sxx/syy #a row vector containing Rsq for each attribute"
      ]
    },
    {
      "cell_type": "markdown",
      "metadata": {
        "id": "jDoQ5XqJUCnY"
      },
      "source": [
        "Now let us see whether we get the same result:"
      ]
    },
    {
      "cell_type": "code",
      "execution_count": null,
      "metadata": {
        "id": "aYANIn2NUCnY",
        "outputId": "84de226f-a094-4cd2-f875-cdc1e700f47b"
      },
      "outputs": [
        {
          "name": "stdout",
          "output_type": "stream",
          "text": [
            " 0 Rsq=0.035302 beta0=152.133484 beta1=304.183075\n",
            " 1 Rsq=0.001854 beta0=152.133484 beta1=69.715356\n",
            " 2 Rsq=0.343924 beta0=152.133484 beta1=949.435260\n",
            " 3 Rsq=0.194908 beta0=152.133484 beta1=714.741644\n",
            " 4 Rsq=0.044954 beta0=152.133484 beta1=343.254452\n",
            " 5 Rsq=0.030295 beta0=152.133484 beta1=281.784593\n",
            " 6 Rsq=0.155859 beta0=152.133484 beta1=-639.145279\n",
            " 7 Rsq=0.185290 beta0=152.133484 beta1=696.883030\n",
            " 8 Rsq=0.320224 beta0=152.133484 beta1=916.138723\n",
            " 9 Rsq=0.146294 beta0=152.133484 beta1=619.222821\n"
          ]
        }
      ],
      "source": [
        "for k in range(natt):\n",
        "    print(\"{0:2d} Rsq={1:f} beta0={2:f} beta1={3:f}\".format(k,Rsq[k],beta0[k],beta1[k]))"
      ]
    },
    {
      "cell_type": "markdown",
      "metadata": {
        "id": "II021WGEUCnY"
      },
      "source": [
        "## Improvements with a Multiple Variable Linear Model\n",
        "\n",
        "One possible way to try to improve the fit is to use multiple variables at the same time.  We can fit the multipe linear model using the `sklearn` package.  \n",
        "\n",
        "For reasons that we will explain in the next demo, we need to split the data into two parts:  one part for training the model and a second part for testing the fit.  In this example, we will use `ns_test=300` samples for training and the remaining `ns_test=442-300=142` for testing."
      ]
    },
    {
      "cell_type": "code",
      "execution_count": null,
      "metadata": {
        "id": "zFU4I1IMUCnY"
      },
      "outputs": [],
      "source": [
        "ns_train = 300\n",
        "ns_test = nsamp - ns_train\n",
        "X_tr = X[:ns_train,:]     # Gets the first ns_train rows of X\n",
        "y_tr = y[:ns_train]       # Gets the correspoinding rows of y"
      ]
    },
    {
      "cell_type": "markdown",
      "metadata": {
        "id": "KvS1ndypUCnY"
      },
      "source": [
        "To fit the linear model, we first create a regression object and then fit the data with regression object."
      ]
    },
    {
      "cell_type": "code",
      "execution_count": null,
      "metadata": {
        "id": "NGo1E3JEUCnY",
        "outputId": "4b1bd3a3-2bee-48d0-c554-718706773f2d"
      },
      "outputs": [
        {
          "data": {
            "text/plain": [
              "LinearRegression(copy_X=True, fit_intercept=True, n_jobs=None, normalize=False)"
            ]
          },
          "execution_count": 20,
          "metadata": {},
          "output_type": "execute_result"
        }
      ],
      "source": [
        "regr = linear_model.LinearRegression()\n",
        "regr.fit(X_tr,y_tr)"
      ]
    },
    {
      "cell_type": "markdown",
      "metadata": {
        "id": "LX4AI8R6UCnY"
      },
      "source": [
        "You can see the coefficients"
      ]
    },
    {
      "cell_type": "code",
      "execution_count": null,
      "metadata": {
        "id": "-cvg00GdUCnY",
        "outputId": "746d88fc-f701-4503-8519-1b441792d8af"
      },
      "outputs": [
        {
          "data": {
            "text/plain": [
              "152.34786451820108"
            ]
          },
          "execution_count": 21,
          "metadata": {},
          "output_type": "execute_result"
        }
      ],
      "source": [
        "regr.intercept_"
      ]
    },
    {
      "cell_type": "code",
      "execution_count": null,
      "metadata": {
        "id": "W9S-zpADUCnZ",
        "outputId": "30f9e005-843d-427e-db76-63d851fd89ce"
      },
      "outputs": [
        {
          "data": {
            "text/plain": [
              "array([ -16.57607993, -254.66532396,  560.98630022,  278.91811152,\n",
              "       -393.41357305,   97.05460405,  -19.0023093 ,  169.46450327,\n",
              "        632.95050374,  114.21638941])"
            ]
          },
          "execution_count": 22,
          "metadata": {},
          "output_type": "execute_result"
        }
      ],
      "source": [
        "regr.coef_"
      ]
    },
    {
      "cell_type": "markdown",
      "metadata": {
        "id": "vwWfu-5wUCnZ"
      },
      "source": [
        "We next compute the RSS (per sample) and the R^2 on the training data"
      ]
    },
    {
      "cell_type": "code",
      "execution_count": null,
      "metadata": {
        "id": "gLQTYM9EUCnZ",
        "outputId": "7ec5206d-836e-4a65-a177-9e58e750f973"
      },
      "outputs": [
        {
          "name": "stdout",
          "output_type": "stream",
          "text": [
            "RSS per sample = 0.485281\n",
            "R^2 =            0.514719\n"
          ]
        }
      ],
      "source": [
        "y_tr_pred = regr.predict(X_tr)\n",
        "RSS_tr = np.mean((y_tr_pred-y_tr)**2)/(np.std(y_tr)**2)\n",
        "Rsq_tr = 1-RSS_tr\n",
        "print(\"RSS per sample = {0:f}\".format(RSS_tr))\n",
        "print(\"R^2 =            {0:f}\".format(Rsq_tr))"
      ]
    },
    {
      "cell_type": "markdown",
      "metadata": {
        "id": "3cVGHbHvUCnZ"
      },
      "source": [
        "We see R^2 is higher than the best single variable model -- more than 51% of the target variance is explained by the model instead of just 34% for the best single variable model.  \n",
        "\n",
        "We also create a scatter plot of predicted vs. actual"
      ]
    },
    {
      "cell_type": "code",
      "execution_count": null,
      "metadata": {
        "id": "Bru2odsDUCnZ",
        "outputId": "a423826a-f192-4d25-cf9c-520bb1dcdf5c"
      },
      "outputs": [
        {
          "data": {
            "image/png": "[encoded data removed]",
            "text/plain": [
              "<Figure size 432x288 with 1 Axes>"
            ]
          },
          "metadata": {
            "needs_background": "light"
          },
          "output_type": "display_data"
        }
      ],
      "source": [
        "plt.scatter(y_tr,y_tr_pred)\n",
        "plt.plot([0,350],[0,350],'r')\n",
        "plt.xlabel('Actual')\n",
        "plt.ylabel('Predicted')\n",
        "plt.grid()"
      ]
    },
    {
      "cell_type": "markdown",
      "metadata": {
        "id": "-rFtjtn_UCnZ"
      },
      "source": [
        "## Validate on Test Data\n",
        "\n",
        "As we will explain in the next lab, one should not evaluate the performance of a model on the data on which it is trained.  It is important to see how the model works on *new* data that is independent of the training data set.  For this reason, we will evaluate the model on the *test* samples that were not used in training."
      ]
    },
    {
      "cell_type": "code",
      "execution_count": null,
      "metadata": {
        "id": "oNC-_7yOUCnZ",
        "outputId": "ce94c1d0-7a57-40e7-c1a3-e65128e4b5f3"
      },
      "outputs": [
        {
          "name": "stdout",
          "output_type": "stream",
          "text": [
            "RSS per sample = 0.492801\n",
            "R^2 =            0.507199\n"
          ]
        }
      ],
      "source": [
        "X_test = X[ns_train:,:]\n",
        "y_test = y[ns_train:]\n",
        "y_test_pred = regr.predict(X_test)\n",
        "RSS_test = np.mean((y_test_pred-y_test)**2)/(np.std(y_test)**2)\n",
        "Rsq_test = 1-RSS_test\n",
        "print(\"RSS per sample = {0:f}\".format(RSS_test))\n",
        "print(\"R^2 =            {0:f}\".format(Rsq_test))"
      ]
    },
    {
      "cell_type": "markdown",
      "metadata": {
        "id": "tBnCg_ifUCnZ"
      },
      "source": [
        "We see that the model predicts new samples almost as well as it did the training samples.  We can also plot the fit on the test data."
      ]
    },
    {
      "cell_type": "code",
      "execution_count": null,
      "metadata": {
        "id": "Rz5IPc3XUCnZ",
        "outputId": "24e582aa-ec3f-401b-8190-744b22b7bc83"
      },
      "outputs": [
        {
          "data": {
            "image/png": "[encoded data removed]",
            "text/plain": [
              "<Figure size 432x288 with 1 Axes>"
            ]
          },
          "metadata": {
            "needs_background": "light"
          },
          "output_type": "display_data"
        }
      ],
      "source": [
        "plt.scatter(y_test,y_test_pred)\n",
        "plt.plot([0,350],[0,350],'r')\n",
        "plt.xlabel('Actual')\n",
        "plt.xlabel('Predicted')\n",
        "plt.grid()"
      ]
    },
    {
      "cell_type": "markdown",
      "metadata": {
        "id": "Z8u2PA4oUCnZ"
      },
      "source": [
        "## Manually Computing the Coefficients"
      ]
    },
    {
      "cell_type": "markdown",
      "metadata": {
        "id": "rz7teDAjUCnl"
      },
      "source": [
        "We can manually compute the regression coefficients using the least-squares matrix formula in class.  Of course, using the `sklearn` package is easier.  I illustrate the manual computation only to show what is happening \"under the hood\" of the linear regression routine.\n",
        "\n",
        "To compute the coefficients manually, we first construct the matrix $\\mathbf{A} = [ \\mathbf{1} ~ \\mathbf{X} ]$.  This is performed with the `ones` command and `hstack`.  Note that after we do this, `A` has 11 columns -- one more column that the data matrix `X_tr`."
      ]
    },
    {
      "cell_type": "code",
      "execution_count": null,
      "metadata": {
        "id": "ZFDPT-kvUCnl",
        "outputId": "121b3b51-9c9c-478c-a008-e717262cdf76"
      },
      "outputs": [
        {
          "data": {
            "text/plain": [
              "(300, 11)"
            ]
          },
          "execution_count": 27,
          "metadata": {},
          "output_type": "execute_result"
        }
      ],
      "source": [
        "ones = np.ones((ns_train,1))\n",
        "A = np.hstack((ones,X_tr))\n",
        "A.shape"
      ]
    },
    {
      "cell_type": "markdown",
      "metadata": {
        "id": "cFxe8y9tUCnl"
      },
      "source": [
        "We next use the `lstsq` method to solve $\\mathbf{y} \\approx \\mathbf{A\\beta}$.  This will find the desired least-squares fit."
      ]
    },
    {
      "cell_type": "code",
      "execution_count": null,
      "metadata": {
        "id": "daC6quaJUCnl"
      },
      "outputs": [],
      "source": [
        "out = np.linalg.lstsq(A,y_tr,rcond=None)\n",
        "beta = out[0]"
      ]
    },
    {
      "cell_type": "markdown",
      "metadata": {
        "id": "P1fWv_bAUCnl"
      },
      "source": [
        "We can see the coefficients"
      ]
    },
    {
      "cell_type": "code",
      "execution_count": null,
      "metadata": {
        "id": "9_jz0OR8UCnl",
        "outputId": "d6f882ac-90e8-4fa5-de40-92bdd078bd20"
      },
      "outputs": [
        {
          "data": {
            "text/plain": [
              "array([ 152.34786452,  -16.57607993, -254.66532396,  560.98630022,\n",
              "        278.91811152, -393.41357305,   97.05460405,  -19.0023093 ,\n",
              "        169.46450327,  632.95050374,  114.21638941])"
            ]
          },
          "execution_count": 152,
          "metadata": {},
          "output_type": "execute_result"
        }
      ],
      "source": [
        "beta"
      ]
    },
    {
      "cell_type": "markdown",
      "metadata": {
        "id": "0ZgUYONKUCnm"
      },
      "source": [
        "We see that `beta[0]` mathches the intercept in `regr.intercept_` from the regression fit and `beta[1:]` matches the coefficients in `regr.coef_`."
      ]
    },
    {
      "cell_type": "code",
      "execution_count": null,
      "metadata": {
        "id": "qH4HCORRUCnm",
        "outputId": "e87e5bb3-22bb-4144-fe8a-07c4a5d2d356"
      },
      "outputs": [
        {
          "data": {
            "text/plain": [
              "array([ -16.57607993, -254.66532396,  560.98630022,  278.91811152,\n",
              "       -393.41357305,   97.05460405,  -19.0023093 ,  169.46450327,\n",
              "        632.95050374,  114.21638941])"
            ]
          },
          "execution_count": 153,
          "metadata": {},
          "output_type": "execute_result"
        }
      ],
      "source": [
        "regr.coef_"
      ]
    },
    {
      "cell_type": "code",
      "execution_count": null,
      "metadata": {
        "id": "3yW97nskUCnm",
        "outputId": "60aa7eca-d7df-44f9-ddc6-e02b7bb66740"
      },
      "outputs": [
        {
          "data": {
            "text/plain": [
              "152.34786451820108"
            ]
          },
          "execution_count": 154,
          "metadata": {},
          "output_type": "execute_result"
        }
      ],
      "source": [
        "regr.intercept_"
      ]
    },
    {
      "cell_type": "markdown",
      "metadata": {
        "id": "1YmWK-71UCnm"
      },
      "source": [
        "Now let us verify this is the same as direct matrix calculation.  For a small problem like this, it makes no difference.  But, in general, using a matrix inverse like this is *much* slower computationally than using either the `lstsq` method or the `LinearRegression` class.  So, **do not ever** solve a least squares problem like this."
      ]
    },
    {
      "cell_type": "code",
      "execution_count": null,
      "metadata": {
        "id": "2xB7fHkeUCnm",
        "outputId": "5130dc4d-70bf-4a62-b518-5a5f99bbeff7"
      },
      "outputs": [
        {
          "name": "stdout",
          "output_type": "stream",
          "text": [
            "[ 152.34786452  -16.57607993 -254.66532396  560.98630022  278.91811152\n",
            " -393.41357305   97.05460405  -19.0023093   169.46450327  632.95050374\n",
            "  114.21638941]\n"
          ]
        }
      ],
      "source": [
        "beta = np.linalg.inv(A.T.dot(A)).dot(A.T.dot(y_tr))\n",
        "print(beta)"
      ]
    },
    {
      "cell_type": "markdown",
      "metadata": {
        "collapsed": true,
        "id": "IDQ5C3OcUCnm"
      },
      "source": [
        "## In-Class Simple Exercise\n",
        "\n",
        "You are given target values `y` and features `x1` and `x2` below.  Fit the model on the first 4 data points and test the model on the fifth data point.  You may want to use the following steps\n",
        "\n",
        "*  Construct the training training data `X_tr,y_tr`\n",
        "*  Create a regression object `regr = linear_model.LinearRegression()`\n",
        "*  Fit the model with the `regr.fit()` method\n",
        "*  Predict the value on the test value with the `regr.predict()`"
      ]
    },
    {
      "cell_type": "code",
      "execution_count": null,
      "metadata": {
        "id": "QsNdgLNQUCnm"
      },
      "outputs": [],
      "source": [
        "x1 = np.array([0,1,3,5,4])\n",
        "x2 = np.array([0,0.7, 4.3, 15.1, 13.2])\n",
        "y = np.array([-2, -0.9, 1.5, 18, 13])\n",
        "\n",
        "# TODO"
      ]
    },
    {
      "cell_type": "code",
      "execution_count": null,
      "metadata": {
        "id": "e4IEN0-ZUCnm"
      },
      "outputs": [],
      "source": []
    }
  ],
  "metadata": {
    "anaconda-cloud": {},
    "kernelspec": {
      "display_name": "Python 3",
      "language": "python",
      "name": "python3"
    },
    "language_info": {
      "codemirror_mode": {
        "name": "ipython",
        "version": 3
      },
      "file_extension": ".py",
      "mimetype": "text/x-python",
      "name": "python",
      "nbconvert_exporter": "python",
      "pygments_lexer": "ipython3",
      "version": "3.7.4"
    },
    "colab": {
      "provenance": [],
      "include_colab_link": true
    }
  },
  "nbformat": 4,
  "nbformat_minor": 0
}